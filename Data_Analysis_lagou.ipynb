{
 "cells": [
  {
   "cell_type": "markdown",
   "metadata": {
    "collapsed": false
   },
   "source": [
    "# 项目概述\n",
    "\n",
    "## 项目简介\n",
    "\n",
    "    本项目使用网络爬虫工具，爬取拉勾网上Title为‘数据分析’的岗位信息，并利用Python对这些数据进行分析、统计和图形展现。同过统计计算和图示化等方式，解答数据分析这一岗位的一些问题，供已经工作和打算从事数据分析工作的童鞋作为参考。\n",
    "    \n",
    "## 数据介绍\n",
    "    项目数据全部来自网络招聘平台拉勾网。之所以选择拉勾网作为本项目的数据源，主要是因为拉钩网上的岗位信息非常完整、整洁，极少存在信息的缺漏。并且几乎所有展现出来的信息都是非常规范化的，极大的减少了前期数据清理和数据整理的工作量。\n",
    "    在本项目中，主要爬取了数据分析岗位的以下信息：\n",
    "\n",
    "| 内容    | 字段        |\n",
    "|:---------- |:------     |\n",
    "|岗位名称 |title       |\n",
    "|月薪     |month_salary|\n",
    "|公司名称  |company     |\n",
    "|所属行业  |industry    |\n",
    "|公司规模  |scale       |\n",
    "|融资阶段  |phase       |\n",
    "|投资人    |investors   |\n",
    "|所在城市  |city        |\n",
    "|经验要求  |experience  |\n",
    "|学历要求  |qualification|\n",
    "|全职/兼职 |full_or_parttime|\n",
    "|职位描述及任职要求|description|\n",
    "\n",
    "## 目的\n",
    "    本项目的主要目的是通过实际的数据来解答针对数据分析岗位的一些疑惑，给从事这一职业或者打算从事这一职业的童鞋一些参考性的意见。具体来说，主要回答了以下几个问题：\n",
    "\n",
    "1. 数据分析师岗位需求的地域性分布；\n",
    "2. 整个群体中薪酬分布的情况；\n",
    "3. 不同城市数据分析师的薪酬情况是怎样的；\n",
    "4. 该岗位对于工作经验的要求是怎样的；\n",
    "5. 根据工作经验的不同，薪酬是怎样变化的；\n",
    "6. 从用人单位的角度看，数据分析师应当具备哪些技能？\n",
    "7. 掌握不同技能是否会对薪酬有影响？影响是怎样的？\n",
    "    \n",
    "## 技术和工具\n",
    "    在项目中，python编程语言是基础。主要使用pandas作为数据整理和统计分析的工具，matplotlib用于图形的可视化，seaborn库包用于图形美化。在进行技能需求分析的时候，使用了jieba作为分词工具包，并使用wordcloud包制作词云。"
   ]
  },
  {
   "cell_type": "markdown",
   "metadata": {
    "collapsed": false
   },
   "source": [
    "# 数据整理"
   ]
  },
  {
   "cell_type": "code",
   "execution_count": null,
   "metadata": {
    "collapsed": false,
    "scrolled": true
   },
   "outputs": [],
   "source": []
  },
  {
   "cell_type": "code",
   "execution_count": null,
   "metadata": {
    "collapsed": false
   },
   "outputs": [],
   "source": []
  },
  {
   "cell_type": "code",
   "execution_count": null,
   "metadata": {
    "collapsed": false
   },
   "outputs": [],
   "source": []
  },
  {
   "cell_type": "code",
   "execution_count": null,
   "metadata": {
    "collapsed": false
   },
   "outputs": [],
   "source": []
  },
  {
   "cell_type": "code",
   "execution_count": null,
   "metadata": {
    "collapsed": false
   },
   "outputs": [],
   "source": []
  },
  {
   "cell_type": "code",
   "execution_count": null,
   "metadata": {
    "collapsed": true
   },
   "outputs": [],
   "source": []
  },
  {
   "cell_type": "code",
   "execution_count": null,
   "metadata": {
    "collapsed": true
   },
   "outputs": [],
   "source": []
  }
 ],
 "metadata": {
  "anaconda-cloud": {},
  "kernelspec": {
   "display_name": "Python [conda root]",
   "language": "python",
   "name": "conda-root-py"
  },
  "language_info": {
   "codemirror_mode": {
    "name": "ipython",
    "version": 2
   },
   "file_extension": ".py",
   "mimetype": "text/x-python",
   "name": "python",
   "nbconvert_exporter": "python",
   "pygments_lexer": "ipython2",
   "version": "2.7.12"
  }
 },
 "nbformat": 4,
 "nbformat_minor": 1
}
